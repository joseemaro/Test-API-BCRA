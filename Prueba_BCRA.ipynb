{
  "nbformat": 4,
  "nbformat_minor": 0,
  "metadata": {
    "colab": {
      "provenance": []
    },
    "kernelspec": {
      "name": "python3",
      "display_name": "Python 3"
    },
    "language_info": {
      "name": "python"
    }
  },
  "cells": [
    {
      "cell_type": "code",
      "execution_count": 12,
      "metadata": {
        "id": "9ciNspQksH7I"
      },
      "outputs": [],
      "source": [
        "#Test API BCRA\n",
        "\n",
        "import pandas as pd\n",
        "import requests\n",
        "\n",
        "base_url = \"https://api.bcra.gob.ar\"\n",
        "\n",
        "def __connect_data(url: str) -> pd.DataFrame:\n",
        "    res = requests.get(url, verify=False)\n",
        "    json = res.json()\n",
        "    if res.status_code == 200:\n",
        "        return pd.DataFrame.from_dict(json[\"results\"])\n",
        "    else:\n",
        "        raise Exception(f\"Error {json['status']}. {'.'.join(json['errorMessages'])}\")\n",
        "\n",
        "def __parse_cols(df: pd.DataFrame) -> pd.DataFrame:\n",
        "    if \"fecha\" in df.columns:\n",
        "        df[\"fecha\"] = pd.to_datetime(df[\"fecha\"], format=\"%d/%m/%Y\").dt.strftime(\"%Y-%m-%d\")\n",
        "    if \"valor\" in df.columns:\n",
        "        df[\"valor\"] = df[\"valor\"].str.replace(\".\", \"\").str.replace(\",\", \".\").astype(float)\n",
        "    return df\n",
        "\n",
        "def get_data_var(id_var: int, desde: str, hasta: str) -> pd.DataFrame:\n",
        "    df = __connect_data(f\"{base_url}/estadisticas/v1/DatosVariable/{id_var}/{desde}/{hasta}\")\n",
        "    df = __parse_cols(df)\n",
        "    return df\n",
        "\n",
        "def get_all_vars() -> pd.DataFrame:\n",
        "    df = __connect_data(f\"{base_url}/estadisticas/v1/principalesvariables\")\n",
        "    df = __parse_cols(df)\n",
        "    return df"
      ]
    },
    {
      "cell_type": "code",
      "source": [
        "pv = get_all_vars()"
      ],
      "metadata": {
        "id": "Vw2AZpepsgSD"
      },
      "execution_count": null,
      "outputs": []
    },
    {
      "cell_type": "code",
      "source": [
        "# Recorrer todas las variables\n",
        "for indice, fila in pv.iterrows():\n",
        "    print(\"Índice:\", indice)\n",
        "    print(\"Descripcion:\", fila['descripcion'])\n",
        "    print(\"Valor:\", fila['valor'])\n",
        "    print(\"Fecha:\", fila['fecha'])\n",
        "    print()"
      ],
      "metadata": {
        "id": "iTYKmuj-AFJP"
      },
      "execution_count": null,
      "outputs": []
    },
    {
      "cell_type": "code",
      "source": [
        "# Obtener la info de una variable especifica\n",
        "dv = get_data_var(id_var=4, desde=\"2024-02-01\", hasta=\"2024-02-05\")\n",
        "print(dv)"
      ],
      "metadata": {
        "id": "5i-FVB0Sspj3"
      },
      "execution_count": null,
      "outputs": []
    }
  ]
}